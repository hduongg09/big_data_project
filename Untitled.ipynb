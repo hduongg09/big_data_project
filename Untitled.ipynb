{
 "cells": [
  {
   "cell_type": "code",
   "execution_count": 32,
   "id": "988eea05-3b04-4371-b658-df2fb1897a93",
   "metadata": {},
   "outputs": [],
   "source": [
    "from pyspark.sql import SparkSession \n",
    "from pyspark.sql.functions import * \n",
    "from pyspark.sql.window import Window \n",
    "from pyspark.sql import functions as F"
   ]
  },
  {
   "cell_type": "code",
   "execution_count": 33,
   "id": "3d200e61-7e0a-4421-a07f-96ed54c12ca4",
   "metadata": {},
   "outputs": [],
   "source": [
    "import os\n",
    "\n",
    "os.environ[\"PYSPARK_PYTHON\"] = r\"C:\\Users\\Admin\\AppData\\Local\\Programs\\Python\\Python39\\python.exe\"\n",
    "os.environ[\"PYSPARK_DRIVER_PYTHON\"] = r\"C:\\Users\\Admin\\AppData\\Local\\Programs\\Python\\Python39\\python.exe\"\n",
    "\n",
    "from pyspark.sql import SparkSession\n",
    "\n",
    "spark = SparkSession.builder \\\n",
    "    .config(\"spark.driver.memory\", \"8g\") \\\n",
    "    .config(\"spark.executor.memory\", \"8g\") \\\n",
    "    .getOrCreate()\n"
   ]
  },
  {
   "cell_type": "code",
   "execution_count": 34,
   "id": "89ce885e-d1d6-4e97-be12-66bc74dc7f18",
   "metadata": {},
   "outputs": [],
   "source": [
    "data = spark.read.parquet(\"D:/study/dataset/log_search/20220601\")\n",
    "data_1 = spark.read.parquet(\"D:/study/dataset/log_search/20220701\")\n",
    "\n",
    "def process_log_search(data, alias_name=\"Most_Search\"):\n",
    "    data = data.select(\"user_id\", \"keyword\") \\\n",
    "               .filter(F.col(\"user_id\").isNotNull() & F.col(\"keyword\").isNotNull())\n",
    "    \n",
    "    data = data.groupBy(\"user_id\", \"keyword\").count()\n",
    "    data = data.withColumnRenamed(\"count\", \"TotalSearch\")\n",
    "    data = data.orderBy(\"user_id\",ascending = False )\n",
    "    window = Window.partitionBy(\"user_id\").orderBy(F.col(\"TotalSearch\").desc())\n",
    "    data = data.withColumn(\"Rank\", F.row_number().over(window))\n",
    "    data = data.filter(F.col(\"Rank\") == 1)\n",
    "\n",
    "    data = data.withColumnRenamed(\"keyword\", alias_name)\n",
    "    return data.select(\"user_id\", alias_name)\n",
    "\n"
   ]
  },
  {
   "cell_type": "code",
   "execution_count": 35,
   "id": "94eea081-d57d-49fa-88d3-83e7ddcf47b2",
   "metadata": {},
   "outputs": [],
   "source": [
    "df = process_log_search(data, alias_name=\"Most_Search_t6\")\n",
    "df_1 = process_log_search(data_1, alias_name=\"Most_Search_t7\")\n",
    "result = df.join(df_1, on='user_id', how='inner')"
   ]
  },
  {
   "cell_type": "code",
   "execution_count": 36,
   "id": "d27ea870-adc3-423c-b0df-4a531cba50ee",
   "metadata": {},
   "outputs": [],
   "source": [
    "most_search_values = result.select(\"Most_Search_t6\") \\\n",
    "    .union(result.select(\"Most_Search_t7\")) \\\n",
    "    .distinct()"
   ]
  },
  {
   "cell_type": "code",
   "execution_count": 38,
   "id": "324bc7a3-6cff-4f3f-b6df-4ace1c568a7c",
   "metadata": {},
   "outputs": [],
   "source": [
    "import pandas as pd \n",
    "# collect về Python list\n",
    "unique_values = most_search_values.rdd.map(lambda row: row[0]).collect() \n",
    "df = pd.DataFrame(unique_values, columns=[\"most_search\"]) \n",
    "df.to_csv(\"D:/study/output/most_search_values_inner.csv\", index=False, encoding=\"utf-8-sig\")"
   ]
  }
 ],
 "metadata": {
  "kernelspec": {
   "display_name": "Python 3 (ipykernel)",
   "language": "python",
   "name": "python3"
  },
  "language_info": {
   "codemirror_mode": {
    "name": "ipython",
    "version": 3
   },
   "file_extension": ".py",
   "mimetype": "text/x-python",
   "name": "python",
   "nbconvert_exporter": "python",
   "pygments_lexer": "ipython3",
   "version": "3.9.13"
  }
 },
 "nbformat": 4,
 "nbformat_minor": 5
}
