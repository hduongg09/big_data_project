{
 "cells": [
  {
   "cell_type": "code",
   "execution_count": 32,
   "id": "988eea05-3b04-4371-b658-df2fb1897a93",
   "metadata": {},
   "outputs": [],
   "source": [
    "from pyspark.sql import SparkSession \n",
    "from pyspark.sql.functions import * \n",
    "from pyspark.sql.window import Window \n",
    "from pyspark.sql import functions as F"
   ]
  },
  {
   "cell_type": "code",
   "execution_count": 33,
   "id": "3d200e61-7e0a-4421-a07f-96ed54c12ca4",
   "metadata": {},
   "outputs": [],
   "source": [
    "import os\n",
    "\n",
    "os.environ[\"PYSPARK_PYTHON\"] = r\"C:\\Users\\Admin\\AppData\\Local\\Programs\\Python\\Python39\\python.exe\"\n",
    "os.environ[\"PYSPARK_DRIVER_PYTHON\"] = r\"C:\\Users\\Admin\\AppData\\Local\\Programs\\Python\\Python39\\python.exe\"\n",
    "\n",
    "from pyspark.sql import SparkSession\n",
    "\n",
    "spark = SparkSession.builder \\\n",
    "    .config(\"spark.driver.memory\", \"8g\") \\\n",
    "    .config(\"spark.executor.memory\", \"8g\") \\\n",
    "    .getOrCreate()\n"
   ]
  },
  {
   "cell_type": "code",
   "execution_count": 34,
   "id": "89ce885e-d1d6-4e97-be12-66bc74dc7f18",
   "metadata": {},
   "outputs": [],
   "source": [
    "data = spark.read.parquet(\"D:/study/dataset/log_search/20220601\")\n",
    "data_1 = spark.read.parquet(\"D:/study/dataset/log_search/20220701\")\n",
    "\n",
    "def process_log_search(data, alias_name=\"Most_Search\"):\n",
    "    data = data.select(\"user_id\", \"keyword\") \\\n",
    "               .filter(F.col(\"user_id\").isNotNull() & F.col(\"keyword\").isNotNull())\n",
    "    \n",
    "    data = data.groupBy(\"user_id\", \"keyword\").count()\n",
    "    data = data.withColumnRenamed(\"count\", \"TotalSearch\")\n",
    "    data = data.orderBy(\"user_id\",ascending = False )\n",
    "    window = Window.partitionBy(\"user_id\").orderBy(F.col(\"TotalSearch\").desc())\n",
    "    data = data.withColumn(\"Rank\", F.row_number().over(window))\n",
    "    data = data.filter(F.col(\"Rank\") == 1)\n",
    "\n",
    "    data = data.withColumnRenamed(\"keyword\", alias_name)\n",
    "    return data.select(\"user_id\", alias_name)\n",
    "\n"
   ]
  },
  {
   "cell_type": "code",
   "execution_count": 35,
   "id": "94eea081-d57d-49fa-88d3-83e7ddcf47b2",
   "metadata": {},
   "outputs": [],
   "source": [
    "df = process_log_search(data, alias_name=\"Most_Search_t6\")\n",
    "df_1 = process_log_search(data_1, alias_name=\"Most_Search_t7\")\n",
    "result = df.join(df_1, on='user_id', how='inner')"
   ]
  },
  {
   "cell_type": "code",
   "execution_count": 36,
   "id": "d27ea870-adc3-423c-b0df-4a531cba50ee",
   "metadata": {},
   "outputs": [],
   "source": [
    "most_search_values = result.select(\"Most_Search_t6\") \\\n",
    "    .union(result.select(\"Most_Search_t7\")) \\\n",
    "    .distinct()\n",
    "\n",
    "# df.coalesce(1).write.mode(\"overwrite\") \\\n",
    "#     .option(\"header\", True) \\\n",
    "#     .csv(\"D:/study/output/Most_Search_t6\")\n"
   ]
  },
  {
   "cell_type": "code",
   "execution_count": 38,
   "id": "324bc7a3-6cff-4f3f-b6df-4ace1c568a7c",
   "metadata": {},
   "outputs": [],
   "source": [
    "import pandas as pd \n",
    "# collect về Python list\n",
    "unique_values = most_search_values.rdd.map(lambda row: row[0]).collect() \n",
    "# tạo DataFrame Pandas \n",
    "df = pd.DataFrame(unique_values, columns=[\"most_search\"]) \n",
    "# ghi ra CSV với BOM \n",
    "df.to_csv(\"D:/study/output/most_search_values_inner.csv\", index=False, encoding=\"utf-8-sig\")"
   ]
  },
  {
   "cell_type": "code",
   "execution_count": 15,
   "id": "a88566a6-2781-4f4c-9cda-7ba034672b00",
   "metadata": {},
   "outputs": [
    {
     "name": "stdout",
     "output_type": "stream",
     "text": [
      "✅ Done! File đã lưu: D:/study/output/most_search_with_predicted_category.csv\n"
     ]
    }
   ],
   "source": [
    "import pandas as pd\n",
    "from sklearn.feature_extraction.text import TfidfVectorizer\n",
    "from sklearn.linear_model import LogisticRegression\n",
    "from sklearn.pipeline import Pipeline\n",
    "\n",
    "# 1. Đọc file đã gán nhãn (bạn cần cung cấp file này)\n",
    "train_df = pd.read_csv(\"D:/study/output/labeled_data.csv\")   # có cột: content, category\n",
    "\n",
    "# 2. Tạo mô hình pipeline\n",
    "model = Pipeline([\n",
    "    (\"tfidf\", TfidfVectorizer(ngram_range=(1,2), max_features=20000)),\n",
    "    (\"clf\", LogisticRegression(max_iter=1000))\n",
    "])\n",
    "\n",
    "# 3. Train model\n",
    "model.fit(train_df[\"content\"], train_df[\"category\"])\n",
    "\n",
    "# 4. Đọc file most_search_values.csv (24450 dòng)\n",
    "df_input = pd.read_csv(\"D:/study/output/most_search_values.csv\")   # có cột: content\n",
    "\n",
    "# 5. Dự đoán category\n",
    "df_input[\"predicted_category\"] = model.predict(df_input[\"content\"].fillna(\"\"))\n",
    "\n",
    "# 6. Xuất file kết quả\n",
    "output_path = \"D:/study/output/most_search_with_predicted_category.csv\"\n",
    "df_input.to_csv(output_path, index=False, encoding=\"utf-8-sig\")\n",
    "\n",
    "print(\"✅ Done! File đã lưu:\", output_path)\n"
   ]
  }
 ],
 "metadata": {
  "kernelspec": {
   "display_name": "Python 3 (ipykernel)",
   "language": "python",
   "name": "python3"
  },
  "language_info": {
   "codemirror_mode": {
    "name": "ipython",
    "version": 3
   },
   "file_extension": ".py",
   "mimetype": "text/x-python",
   "name": "python",
   "nbconvert_exporter": "python",
   "pygments_lexer": "ipython3",
   "version": "3.9.13"
  }
 },
 "nbformat": 4,
 "nbformat_minor": 5
}
